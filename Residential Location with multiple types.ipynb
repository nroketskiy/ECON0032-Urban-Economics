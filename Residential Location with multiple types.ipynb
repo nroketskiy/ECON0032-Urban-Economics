{
 "cells": [
  {
   "cell_type": "markdown",
   "metadata": {},
   "source": [
    "# Residential location choice with multiple types\n",
    "\n",
    "We introduce different types into the model of residential location choice.\n",
    "\n",
    "Let's start by reviewing the main equations that we will use to compute the equilibrium. First, the consumers' utility maximization problem is\n",
    "\\begin{align*}\n",
    "&\\max\\limits_{s,c}\\{u(c,s)\\}\\\\\n",
    "&pc+r(x)s = y-tx\n",
    "\\end{align*}\n",
    "Since we are interested in individual demand for land, we can use budget constrain to exclude consumption from the problem:\n",
    "\\begin{equation*}\n",
    "s^{\\ast}(r(x),p,y,x) = \\arg\\max\\limits_{s}\\left\\{u\\left(\\frac{y-tx-r(x)s}{p},s \\right)\\right\\}\n",
    "\\end{equation*}\n",
    "Keep in mind that the parameters that enter this problem are type-specific.\n",
    "\n",
    "The condition that the indirect utility must be indepenent of the location (otherwise, some locations will not be populated in equilibrium) gives us the equation for bidding function\n",
    "\\begin{equation*}\n",
    "\\frac{d}{dx}b_i(x) = -\\frac{t_i}{s_i^{\\ast}(b_i(x),p,y_i-t_i x)}\n",
    "\\end{equation*}\n",
    "\n",
    "The endogenous city boundary $x_B$ solves $r(x_B) = r_A$. The integral equation pins down prices at all locations except $x = 0$. In order to find the price in the center we solve the market clearing condition for land (type by type):\n",
    "\\begin{equation*}\n",
    "N_i = \\int\\limits_{X_i}\\frac{2\\pi z dz}{s_i^{\\ast}(b_i(z),p,y_i-t_iz)}\n",
    "\\end{equation*}\n",
    "\n",
    "### Algorithm\n",
    "\n",
    "We will use the following algorithm for computing the equilibrium:\n",
    "1. For given prices we compute the individual demand for land.\n",
    "2. Using the integral equation we compute the bidding functions, resulting prices (upper envelope of bidding functions) and locations occupied by different types.\n",
    "4. Solve the market clearing condition for $b_i(0)$.\n",
    "\n",
    "We cannot work with the continuum of locations directly, so we will intoduce a deterministic location grid with a small increment.  \n",
    "\n",
    "### Implementation\n",
    "\n",
    "We begin by defining consumer's preferences and individual demands. We can reuse the code from the previous class."
   ]
  },
  {
   "cell_type": "code",
   "execution_count": 3,
   "metadata": {},
   "outputs": [],
   "source": [
    "# using Pkg\n",
    "# Pkg.add(\"Optim\")\n",
    "using Optim\n",
    "\n",
    "function utilityfn(c,s)\n",
    "#Utility function()\n",
    "alpha = 0.3\n",
    "rslt = (c.^alpha).*(s.^(1-alpha))\n",
    "end;\n",
    "\n",
    "function dmnd(trc, income, p, r_A, xx, rr)\n",
    "#demand\n",
    "nn = length(xx)\n",
    "s_dmnd = zeros(nn,1)\n",
    "c_dmnd = zeros(nn,1)\n",
    "for ii in 1:nn\n",
    "    utilityfn_lambda(s) = -utilityfn(max((income-trc*xx[ii]-rr[ii]*s)/p,0.0),max(s,0.0))\n",
    "    s_dmnd[ii,1] = Optim.minimizer(optimize(utilityfn_lambda,0.0,max(0.0,(income-trc*xx[ii])/rr[ii])))\n",
    "    c_dmnd[ii,1] = (income-trc*xx[ii]-rr[ii]*s_dmnd[ii,1])/p\n",
    "end\n",
    "return (c_dmnd, s_dmnd)\n",
    "    end;"
   ]
  },
  {
   "cell_type": "markdown",
   "metadata": {},
   "source": [
    "Now we can solve the equation for the bidding functions. This time we will not iterate it to find a fixed point. Instead, we will use the prices from the adjacent points on the grid as approximation to compute individual demands."
   ]
  },
  {
   "cell_type": "code",
   "execution_count": 4,
   "metadata": {},
   "outputs": [],
   "source": [
    "function findrent(trc, income, p, r_A, xx, r0)\n",
    "#search for the solution to dr/dx = -t/s[r]\n",
    "\n",
    "nn = length(xx)\n",
    "rr = fill(r0, nn, 1)\n",
    "\n",
    "\n",
    "for jj in 2:(nn-1)\n",
    "    (c_dmnd, s_dmnd) = dmnd(trc, income, p, r_A, xx[jj], rr[jj])\n",
    "    if s_dmnd[1] > 0.0\n",
    "        rr[jj] = max(rr[jj-1]-trc*(xx[jj]-xx[jj-1])/s_dmnd[1] , 0.0)\n",
    "        rr[jj+1] = rr[jj]\n",
    "    else\n",
    "        rr[jj] = 0.0\n",
    "        rr[jj+1] = rr[jj]\n",
    "    end\n",
    "end\n",
    "\n",
    "return rr\n",
    "\n",
    "        end;"
   ]
  },
  {
   "cell_type": "markdown",
   "metadata": {},
   "source": [
    "Finally, we can use market clearing condition to solve for $r(0)$. We use the binary search since we know that excess demand is monotone in $r(0)$. The first `while` look finds $r(0)$ large enough for the excess demand to be negative (recall, that this value is required to start the binary search). the second `while` loop solves the market clearing condition."
   ]
  },
  {
   "cell_type": "code",
   "execution_count": 13,
   "metadata": {},
   "outputs": [],
   "source": [
    "function findeq_het(trc, income, p, r_A, xx, N)\n",
    "    #trc, income, N and uf are vectors\n",
    "toler2 = 0.001\n",
    "numberoftypes = length(trc)\n",
    "numberoflocations = length(xx)\n",
    "#rhs_mat = fill(0,numberoftypes,1)\n",
    "bb = fill(r_A,numberoflocations,numberoftypes+1)\n",
    "s_dmnd = similar(bb)\n",
    "b0 = similar(trc)\n",
    "rr = similar(xx)\n",
    "dxx = similar(xx)\n",
    "dxx[1] = 0.0\n",
    "dxx[2:end] = xx[2:end]-xx[1:end-1]\n",
    "xxdxx = xx.*dxx\n",
    "xxdxx_zero = fill(0.0,numberoflocations,numberoftypes+1)\n",
    "b0_init = fill(10.0,numberoftypes,1)\n",
    "\n",
    "function findeqprice(b0)\n",
    "for ii in 1:numberoftypes\n",
    "    bb[:,ii] = findrent(trc[ii], income[ii], p, r_A, xx, abs(b0[ii]))\n",
    "end;\n",
    "(rr, allocation_ind) = findmax(bb,dims=2)\n",
    "return (rr, allocation_ind, bb)\n",
    "end;\n",
    "\n",
    "function excessdemand(b0)\n",
    "    rhs_mat = fill(0.0,numberoftypes,1)\n",
    "    (rr, allocation_ind, bb) = findeqprice(b0)\n",
    "    for ii in 1:numberoftypes\n",
    "        (c_dmnd, s_dmnd[:,ii]) = dmnd(trc[ii], income[ii], p, r_A, xx, rr)   \n",
    "        xxdxx_ii = copy(xxdxx_zero)\n",
    "        xxdxx_ii[:,ii] = xxdxx\n",
    "        rhs_mat[ii] = sum(2*pi*xxdxx_ii[allocation_ind]./s_dmnd[allocation_ind], dims=1)[1]-N[ii]\n",
    "    end;\n",
    "    quaderror = -rhs_mat'rhs_mat\n",
    "    if isnan(quaderror[1])\n",
    "        return -666666.6\n",
    "    else\n",
    "        return quaderror[1]\n",
    "    end\n",
    "end;\n",
    "\n",
    "r_max = 2\n",
    "toler3 = 100\n",
    "b0_error_mat = fill(r_A,toler3^2,3);\n",
    "ijk = 1\n",
    "\n",
    "for ii in 0:(toler3-1), jj in 0:(toler3-1)\n",
    "    b0_error_mat[ijk,1:2] = [r_A+(r_max-r_A)*ii/toler3  r_A+(r_max-r_A)*jj/toler3]\n",
    "    b0_error_mat[ijk,3] = excessdemand(b0_error_mat[ijk,1:2])\n",
    "    ijk += 1\n",
    "end\n",
    "\n",
    "(maxerr, b0_ind) = findmax(b0_error_mat[:,3])\n",
    "println(\"Total square excess demand is $maxerr\")\n",
    "b0_eq = b0_error_mat[b0_ind,1:2]\n",
    "(rr, allocation_ind, bb) = findeqprice(b0_eq)\n",
    "return (rr, bb)\n",
    "\n",
    "        end;\n"
   ]
  },
  {
   "cell_type": "markdown",
   "metadata": {},
   "source": [
    "Once all this functions are defined we can run them on some parameters. For instance, we can set\n",
    "\\begin{align*}\n",
    "&t = (1, 1)\\\\\n",
    "&y = (1, 1.5)\\\\\n",
    "&p = 1\\\\\n",
    "&r_A = 0.2\\\\\n",
    "&N = (1, 1)\n",
    "\\end{align*} and run the code to compute the prices."
   ]
  },
  {
   "cell_type": "code",
   "execution_count": 15,
   "metadata": {},
   "outputs": [
    {
     "name": "stdout",
     "output_type": "stream",
     "text": [
      "Total square excess demand is -0.0003750675228193938\n"
     ]
    }
   ],
   "source": [
    "#include(\"dmnd.jl\")\n",
    "#include(\"findrent.jl\")\n",
    "#include(\"utilityfn.jl\")\n",
    "#include(\"findeq.jl\")\n",
    "# using Pkg\n",
    "# Pkg.add(\"Plots\")\n",
    "using Plots\n",
    "pyplot()\n",
    "# using Pkg\n",
    "# Pkg.add(\"LaTeXStrings\")\n",
    "using LaTeXStrings\n",
    "#gr()\n",
    "\n",
    "p = 1.0\n",
    "r_A = 1/5\n",
    "grid_size = 1000\n",
    "maxX = 1.6\n",
    "\n",
    "xx = [(maxX/grid_size)*(ii-1) for ii in (1:grid_size)]\n",
    "\n",
    "trc_mat = [1.0; 1.0]\n",
    "income_mat = [1.0; 1.5]\n",
    "N_mat = [1.0; 1.0]\n",
    "\n",
    "(rr, bb) = findeq_het(trc_mat, income_mat, p, r_A, xx, N_mat);"
   ]
  },
  {
   "cell_type": "markdown",
   "metadata": {},
   "source": [
    "Now we can use the output to plot a graph of $r(x)$ and the bidding functions for different types."
   ]
  },
  {
   "cell_type": "code",
   "execution_count": 16,
   "metadata": {},
   "outputs": [
    {
     "data": {
      "image/png": "[encoded data removed]"
     },
     "execution_count": 16,
     "metadata": {},
     "output_type": "execute_result"
    }
   ],
   "source": [
    "\n",
    "plot(xx, bb[:,3],\n",
    "        seriestype = :line,\n",
    "        linestyle = :dash,\n",
    "        linealpha = 0.7,\n",
    "        linewidth = 2,\n",
    "        linecolor = :red,\n",
    "        label = L\"r_A\")\n",
    "xlabel!(L\"x\")\n",
    "ylabel!(L\"r(x)\")\n",
    "title!(\"Land prices\")\n",
    "plot!(xx, bb[:,2],\n",
    "        seriestype = :line,\n",
    "        linestyle = :dash,\n",
    "        linealpha = 0.7,\n",
    "        linewidth = 2,\n",
    "        linecolor = :blue,\n",
    "        label = \"Bid 2\")\n",
    "plot!(xx, bb[:,1],\n",
    "        seriestype = :line,\n",
    "        linestyle = :dash,\n",
    "        linealpha = 0.7,\n",
    "        linewidth = 2,\n",
    "        linecolor = :green,\n",
    "        label = \"Bid 1\")\n",
    "plot!(xx, rr,\n",
    "        seriestype = :line,\n",
    "        linestyle = :solid,\n",
    "        linealpha = 0.5,\n",
    "        linewidth = 4,\n",
    "        linecolor = :black,\n",
    "        label = L\"r(x)\")"
   ]
  }
 ],
 "metadata": {
  "kernelspec": {
   "display_name": "Julia 1.0.1",
   "language": "julia",
   "name": "julia-1.0"
  },
  "language_info": {
   "file_extension": ".jl",
   "mimetype": "application/julia",
   "name": "julia",
   "version": "1.0.1"
  }
 },
 "nbformat": 4,
 "nbformat_minor": 2
}
