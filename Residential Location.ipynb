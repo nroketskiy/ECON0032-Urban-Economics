{
 "cells": [
  {
   "cell_type": "markdown",
   "metadata": {},
   "source": [
    "# Residential location choice\n",
    "\n",
    "We will calculate spacial equilibrium numerically for the simplest setup of the model---i.e., the one with homogeneous consumers and homogenous space. \n",
    "\n",
    "Let's start by reviewing the main equations that we will use to compute the equilibrium. First, the consumers' utility maximization problem is\n",
    "\\begin{align*}\n",
    "&\\max\\limits_{s,c}\\{u(c,s)\\}\\\\\n",
    "&pc+r(x)s = y-tx\n",
    "\\end{align*}\n",
    "Since we are interested in individual demand for land, we can use budget constrain to exclude consumption from the problem:\n",
    "\\begin{equation*}\n",
    "s^{\\ast}(r(x),p,y,x) = \\arg\\max\\limits_{s}\\left\\{u\\left(\\frac{y-tx-r(x)s}{p},s \\right)\\right\\}\n",
    "\\end{equation*}\n",
    "\n",
    "The condition that the indirect utility must be indepenent of the location (otherwise, some locations will not be populated in equilibrium) gives us the equation that disciplines the difference in prices between two locations:\n",
    "\\begin{equation*}\n",
    "\\frac{d}{dx}r(x) = -\\frac{t}{s^{\\ast}(r(x),p,y,x)}\n",
    "\\end{equation*}\n",
    "or in the integral form\n",
    "\\begin{equation*}\n",
    "r(x)-r(0) = -\\int\\limits_{0}^{x}\\frac{tdz}{s^{\\ast}(r(z),p,y,z)}\n",
    "\\end{equation*}\n",
    "\n",
    "The endogenous city boundary $x_B$ solves $r(x_B) = r_A$. The integral equation pins down prices at all locations except $x = 0$. In order to find the price in the center we solve the market clearing condition for land:\n",
    "\\begin{equation*}\n",
    "N = \\int\\limits_{0}^{x_B}\\frac{2\\pi z dz}{s^{\\ast}(r(z),p,y,z)}\n",
    "\\end{equation*}\n",
    "\n",
    "### Algorithm\n",
    "\n",
    "We will use the following algorithm for computing the equilibrium:\n",
    "1. For given prices we compute the individual demand for land.\n",
    "2. Using the integral equation we compute the land prices.\n",
    "3. Iterate 1. and 2. until the prices that we use as input coincide with the prices that solve the integral equation.\n",
    "4. Solve the market clearing condition for $r(0)$.\n",
    "\n",
    "We cannot work with the continuum of locations directly, so we will intoduce a deterministic location grid with a small increment.  \n",
    "\n",
    "We begin by defining consumer's preferences. In this example we will use Cobb-Duglas utility, but the script works for arbitrary utility functions (as long as the assumptions used in the model are satisfied)."
   ]
  },
  {
   "cell_type": "code",
   "execution_count": 2,
   "metadata": {},
   "outputs": [],
   "source": [
    "function utilityfn(c,s)\n",
    "#Utility function()\n",
    "alpha = 0.3\n",
    "rslt = (c.^alpha).*(s.^(1-alpha))\n",
    "end;"
   ]
  },
  {
   "cell_type": "markdown",
   "metadata": {},
   "source": [
    "Now we can solve the utility maximization problem. Inputs for this problem are transportation costs $t$ (variable `trc`), income $y$ (variable `income`), the price of consumption good $p$ (variable `p`), the discreet grid on the set of locations (variable `xx`) and the land prices (variable `rr`). Naturally, variables `rr` and `xx` should have the same dimensions. Function `dmnd` solves for demanded consumption and land for each location (so the outpus will be vectors with the same dimensions as `xx`) given inputs."
   ]
  },
  {
   "cell_type": "code",
   "execution_count": 3,
   "metadata": {},
   "outputs": [],
   "source": [
    "# using Pkg\n",
    "# Pkg.add(\"Optim\")\n",
    "using Optim\n",
    "\n",
    "function dmnd(trc, income, p, xx, rr)\n",
    "#demand\n",
    "nn = length(xx)\n",
    "s_temp = zeros(nn,1)\n",
    "c_temp = zeros(nn,1)\n",
    "for ii in 1:nn\n",
    "    utilityfn_lambda(s) = -utilityfn((income-trc*xx[ii]-rr[ii]*s)/p,s)\n",
    "    s_temp[ii,1] = Optim.minimizer(optimize(utilityfn_lambda,0,max(0,(income-trc*xx[ii])/rr[ii])))\n",
    "    c_temp[ii,1] = (income-trc*xx[ii]-rr[ii]*s_temp[ii,1])/p\n",
    "end\n",
    "s_dmnd = s_temp\n",
    "c_dmnd = c_temp\n",
    "return (c_dmnd, s_dmnd)\n",
    "end;"
   ]
  },
  {
   "cell_type": "markdown",
   "metadata": {},
   "source": [
    "Once we have individual demand functions, we can solve the integral equation for land prices. We will iterate 1. and 2. until we arrive at the solution: this iterations are implemented in the `while` loop. Note that the prices in the iterations are updated with some inertia (see `rr_old = (rr_old+rr_new)/2`). This is a heuristic to obtain the convergence of the iterations. The function `findrent` below finds prices $r(x)$ given the price in the center $r(0)$ (we will solve for it later)."
   ]
  },
  {
   "cell_type": "code",
   "execution_count": 4,
   "metadata": {},
   "outputs": [],
   "source": [
    "function findrent(trc, income, p, r_A, xx, r0)\n",
    "#search for the solution to dr/dx = -t/s[r]\n",
    "\n",
    "toler1 = 0.001 #this is a precision parameter for iterations on r(x)\n",
    "nn = length(xx)\n",
    "drr = 12345.0\n",
    "rr_old = fill(r0, nn, 1)#r0*ones(length(xx),1)\n",
    "rr_new = rr_old.+drr\n",
    "\n",
    "\n",
    "while drr>toler1\n",
    "    (c_dmnd, s_dmnd) = dmnd(trc, income, p, xx, rr_old)\n",
    "    rr_new[1] = r0\n",
    "    for ii in 2:nn\n",
    "        if s_dmnd[ii] > 0\n",
    "            rr_new[ii] = max(rr_new[ii-1]-trc*(xx[ii]-xx[ii-1])/s_dmnd[ii] , 0)\n",
    "        else\n",
    "            rr_new[ii] = 0\n",
    "        end\n",
    "    end\n",
    "    drr = maximum(abs.(rr_new-rr_old), dims=1)[1]\n",
    "    #println(drr)\n",
    "    rr_old = (rr_old+rr_new)/2\n",
    "end\n",
    "\n",
    "return rr_new\n",
    "\n",
    "        end;"
   ]
  },
  {
   "cell_type": "markdown",
   "metadata": {},
   "source": [
    "Finally, we can use market clearing condition to solve for $r(0)$. We use the binary search since we know that excess demand is monotone in $r(0)$. The first `while` look finds $r(0)$ large enough for the excess demand to be negative (recall, that this value is required to start the binary search). the second `while` loop solves the market clearing condition."
   ]
  },
  {
   "cell_type": "code",
   "execution_count": 5,
   "metadata": {},
   "outputs": [],
   "source": [
    "function findeq(trc, income, p, r_A, xx, N)\n",
    "toler2 = 0.0001\n",
    "rr = similar(xx)\n",
    "dxx = similar(xx)\n",
    "dxx[1] = 0\n",
    "dxx[2:end] = xx[2:end]-xx[1:end-1]\n",
    "xxdxx = xx.*dxx\n",
    "\n",
    "\n",
    "r0h = 0.0 # this value must be low enough otherwise the solution will not be found\n",
    "r0l = 0.0\n",
    "rhs = 0.0 # arbitrary value less than N\n",
    "\n",
    "#Find the rough bound on r(0) that result in excess supply and excess demand for land\n",
    "while rhs[1]<N\n",
    "    r0l = r0h\n",
    "    r0h = 2*r0h+0.1\n",
    "    rr = findrent(trc, income, p, r_A, xx, r0h)\n",
    "    ii_B = argmin(abs.(rr.-r_A), dims=1)[1][1]\n",
    "    (c_dmnd, s_dmnd) = dmnd(trc, income, p, xx, rr)\n",
    "    rhs_mat = 2*pi*xxdxx./s_dmnd\n",
    "    rhs = sum(rhs_mat[1:ii_B], dims=1)\n",
    "    println(\"Right hand side is $rhs\")\n",
    "end\n",
    "\n",
    "#r0l = 0\n",
    "r0 = r0l\n",
    "rhs = 0.0\n",
    "\n",
    "while abs(r0h-r0l)>toler2\n",
    "    if rhs[1]>N\n",
    "        r0h = r0\n",
    "    else()\n",
    "        r0l = r0\n",
    "    end\n",
    "    r0 = (r0h+r0l)/2\n",
    "    rr = findrent(trc, income, p, r_A, xx, r0)\n",
    "    ii_B = argmin(abs.(rr.-r_A), dims=1)[1][1]\n",
    "    (c_dmnd, s_dmnd) = dmnd(trc, income, p, xx, rr)\n",
    "    rhs_mat = 2*pi*xxdxx./s_dmnd\n",
    "    rhs = sum(rhs_mat[1:ii_B], dims=1)\n",
    "    println(\"$r0l $r0h\")\n",
    "end\n",
    "\n",
    "return rr\n",
    "\n",
    "end;\n",
    "    \n",
    "function compute_welfare(trc, income, p, xx, r_A, rr)\n",
    "    (c_dmnd, s_dmnd) = dmnd(trc, income, p, xx, rr)\n",
    "    V = utilityfn(c_dmnd[1],s_dmnd[1])\n",
    "    dxx = copy(xx)\n",
    "    dxx[1] = 0\n",
    "    dxx[2:end] = xx[2:end]-xx[1:end-1]\n",
    "    xxdxx = xx.*dxx\n",
    "    WW = 2*pi*xxdxx.*(rr.-r_A)\n",
    "    W = sum(WW[1:ii_B])\n",
    "    println(\"====================================\")\n",
    "    println(\"utility:       $V\")\n",
    "    println(\"value of land: $W\")\n",
    "    end;"
   ]
  },
  {
   "cell_type": "markdown",
   "metadata": {},
   "source": [
    "Once all this functions are defined we can run them on some parameters. For instance, we can set\n",
    "\\begin{align*}\n",
    "&t = 1\\\\\n",
    "&y = 5\\\\\n",
    "&p = 1\\\\\n",
    "&r_A = 0.1\\\\\n",
    "&N = 20\n",
    "\\end{align*} and run the code to compute the prices."
   ]
  },
  {
   "cell_type": "code",
   "execution_count": 6,
   "metadata": {},
   "outputs": [
    {
     "name": "stdout",
     "output_type": "stream",
     "text": [
      "Right hand side is [0.0]\n",
      "Right hand side is [1.60608]\n",
      "Right hand side is [6.40852]\n",
      "Right hand side is [16.615]\n",
      "0.7000000000000001 1.5000000000000002\n",
      "0.7000000000000001 1.1\n",
      "0.9000000000000001 1.1\n",
      "0.9000000000000001 1.0\n",
      "0.9500000000000001 1.0\n",
      "0.9750000000000001 1.0\n",
      "0.9750000000000001 0.9875\n",
      "0.9812500000000001 0.9875\n",
      "0.9812500000000001 0.984375\n",
      "0.9812500000000001 0.9828125000000001\n",
      "0.9812500000000001 0.9820312500000001\n",
      "0.9812500000000001 0.981640625\n",
      "0.9812500000000001 0.9814453125\n",
      "0.9812500000000001 0.9813476562500001\n",
      "====================================\n",
      "utility:       2.7505156009621485\n",
      "value of land: 12.409670238478299\n"
     ]
    }
   ],
   "source": [
    "#define exogenous parameters\n",
    "trc = 1.0\n",
    "income = 5.0\n",
    "p = 1.0\n",
    "r_A = 0.1\n",
    "N = 10.0\n",
    "\n",
    "#define set of locations (discretization)\n",
    "grid_size = 300\n",
    "maxX = income/trc\n",
    "xx = [(maxX/grid_size)*(ii-1) for ii in (1:grid_size)]\n",
    "\n",
    "#compute equilibrium\n",
    "rr_bid = findeq(trc, income, p, r_A, xx, N)\n",
    "r_A_mat = r_A*ones(length(xx),1)\n",
    "rr = maximum([rr_bid r_A_mat], dims=2)\n",
    "ii_B = argmin(abs.(rr_bid.-r_A), dims=1)[1][1]\n",
    "border_x = xx[ii_B]\n",
    "#compute welfare\n",
    "compute_welfare(trc, income, p, xx, r_A, rr)"
   ]
  },
  {
   "cell_type": "markdown",
   "metadata": {},
   "source": [
    "Now we can use the output to plot a graph of $r(x)$."
   ]
  },
  {
   "cell_type": "code",
   "execution_count": 8,
   "metadata": {},
   "outputs": [
    {
     "data": {
      "image/png": "[encoded data removed]"
     },
     "execution_count": 8,
     "metadata": {},
     "output_type": "execute_result"
    },
    {
     "name": "stderr",
     "output_type": "stream",
     "text": [
      "'c' argument looks like a single numeric RGB or RGBA sequence, which should be avoided as value-mapping will have precedence in case its length matches with 'x' & 'y'.  Please use a 2-D array with a single row if you really want to specify the same RGB or RGBA value for all points.\n"
     ]
    }
   ],
   "source": [
    "# using Pkg\n",
    "# Pkg.add(\"Plots\")\n",
    "using Plots\n",
    "pyplot()\n",
    "# using Pkg\n",
    "# Pkg.add(\"LaTeXStrings\")\n",
    "using LaTeXStrings\n",
    "\n",
    "plot(xx, r_A_mat,\n",
    "        seriestype = :line,\n",
    "        linestyle = :dash,\n",
    "        linealpha = 0.7,\n",
    "        linewidth = 2,\n",
    "        linecolor = :red,\n",
    "        label = L\"r_A\")\n",
    "xlabel!(L\"x\")\n",
    "ylabel!(L\"r(x)\")\n",
    "title!(\"Land prices\")\n",
    "plot!(xx, rr_bid,\n",
    "        seriestype = :line,\n",
    "        linestyle = :dash,\n",
    "        linealpha = 0.7,\n",
    "        linewidth = 2,\n",
    "        linecolor = :blue,\n",
    "        label = \"Bid\")\n",
    "plot!(xx, rr,\n",
    "        seriestype = :line,\n",
    "        linestyle = :solid,\n",
    "        linealpha = 0.5,\n",
    "        linewidth = 4,\n",
    "        linecolor = :black,\n",
    "        label = L\"r(x)\")\n",
    "scatter!([border_x], [r_A],\n",
    "        markershape = :circle,\n",
    "        markersize = 8,\n",
    "        markeralpha =1,\n",
    "        markercolor = :yellow,        \n",
    "        markerstrokewidth = 3,\n",
    "        markerstrokealpha = 1,\n",
    "        markerstrokecolor = :black,\n",
    "        markerstrokestyle = :solid,\n",
    "    #    dpi = 180,\n",
    "    #    size = (1200,800),\n",
    "        thickness_scaling = 1.3,\n",
    "        label = \"City border\")"
   ]
  },
  {
   "cell_type": "code",
   "execution_count": null,
   "metadata": {},
   "outputs": [],
   "source": []
  }
 ],
 "metadata": {
  "kernelspec": {
   "display_name": "Julia 1.0.1",
   "language": "julia",
   "name": "julia-1.0"
  },
  "language_info": {
   "file_extension": ".jl",
   "mimetype": "application/julia",
   "name": "julia",
   "version": "1.0.1"
  }
 },
 "nbformat": 4,
 "nbformat_minor": 2
}
