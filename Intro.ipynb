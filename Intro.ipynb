{
 "cells": [
  {
   "cell_type": "markdown",
   "metadata": {},
   "source": [
    "# Some useful numerical methods"
   ]
  },
  {
   "cell_type": "markdown",
   "metadata": {},
   "source": [
    "In this lecture we will go through the selection of numerical methods and tricks that may prove useful for our main task--i.e., computing equilibria in location choice models. The methods that are presented here are neither the fastest, the most efficient nor the most precise. Their main advantage is that they are simple and easy to implement. \n",
    "\n",
    "### Basic operations with vectors and matrices\n",
    "\n",
    "Julia supports matrix multiplication. First, let's define the two matrices $A$ and $B$."
   ]
  },
  {
   "cell_type": "code",
   "execution_count": 1,
   "metadata": {},
   "outputs": [],
   "source": [
    "A = [1 2; 3 4]\n",
    "B = [1 -1; 0 3];"
   ]
  },
  {
   "cell_type": "markdown",
   "metadata": {},
   "source": [
    "Now we can calculate $C = AB$. The resulting matrix $C$ should be $C_{i,j} = A_{i,1}B_{1,j}+A_{i,2}B_{2,j}$."
   ]
  },
  {
   "cell_type": "code",
   "execution_count": 2,
   "metadata": {},
   "outputs": [
    {
     "data": {
      "text/plain": [
       "2×2 Array{Int64,2}:\n",
       " 1  5\n",
       " 3  9"
      ]
     },
     "execution_count": 2,
     "metadata": {},
     "output_type": "execute_result"
    }
   ],
   "source": [
    "C = A*B"
   ]
  },
  {
   "cell_type": "markdown",
   "metadata": {},
   "source": [
    "Matrix multiplication is useful to compute expected quadratic loss. Let us define a vector $V$ and calculate $w = \\sum V^2_i = v^{\\prime}v$."
   ]
  },
  {
   "cell_type": "code",
   "execution_count": 83,
   "metadata": {},
   "outputs": [
    {
     "data": {
      "text/plain": [
       "67"
      ]
     },
     "execution_count": 83,
     "metadata": {},
     "output_type": "execute_result"
    }
   ],
   "source": [
    "V = [1; 2; 1; 5; 6]\n",
    "w = V'*V"
   ]
  },
  {
   "cell_type": "markdown",
   "metadata": {},
   "source": [
    "When computing the multiplication of the transposed matrix $V^{\\prime}$ with $V$, one can ommit the multiplication sign *:"
   ]
  },
  {
   "cell_type": "code",
   "execution_count": 84,
   "metadata": {},
   "outputs": [
    {
     "data": {
      "text/plain": [
       "67"
      ]
     },
     "execution_count": 84,
     "metadata": {},
     "output_type": "execute_result"
    }
   ],
   "source": [
    "w = V'V"
   ]
  },
  {
   "cell_type": "markdown",
   "metadata": {},
   "source": [
    "Consider two vectors $x,b$ and a matrix $A$ such that $$Ax = b.$$ If matrix $A$ is invertible, this system of linear equations has a solution $$x = A^{-1}b.$$ It is easy to find the solution in Julia:"
   ]
  },
  {
   "cell_type": "code",
   "execution_count": 85,
   "metadata": {},
   "outputs": [
    {
     "data": {
      "text/plain": [
       "2-element Array{Float64,1}:\n",
       "  1.9999999999999996\n",
       " -0.4999999999999998"
      ]
     },
     "execution_count": 85,
     "metadata": {},
     "output_type": "execute_result"
    }
   ],
   "source": [
    "b = [1;4]\n",
    "x = A^(-1)*b"
   ]
  },
  {
   "cell_type": "markdown",
   "metadata": {},
   "source": [
    "Julia has a special syntax for this:"
   ]
  },
  {
   "cell_type": "code",
   "execution_count": 86,
   "metadata": {},
   "outputs": [
    {
     "data": {
      "text/plain": [
       "2-element Array{Float64,1}:\n",
       "  2.0\n",
       " -0.5"
      ]
     },
     "execution_count": 86,
     "metadata": {},
     "output_type": "execute_result"
    }
   ],
   "source": [
    "x = A\\b"
   ]
  },
  {
   "cell_type": "markdown",
   "metadata": {},
   "source": [
    "### Finding a maximal element of an array\n",
    "\n",
    "Let's define a matrix $A$."
   ]
  },
  {
   "cell_type": "code",
   "execution_count": 87,
   "metadata": {},
   "outputs": [
    {
     "data": {
      "text/plain": [
       "3×5 Array{Int64,2}:\n",
       " 4  7   8  1  2\n",
       " 7  2   1  5  7\n",
       " 6  6  10  2  3"
      ]
     },
     "execution_count": 87,
     "metadata": {},
     "output_type": "execute_result"
    }
   ],
   "source": [
    "A = rand(1:10,3,5)"
   ]
  },
  {
   "cell_type": "markdown",
   "metadata": {},
   "source": [
    "If you need to find the largest (or the smallest) element of an array along some dimension you can do the following:"
   ]
  },
  {
   "cell_type": "code",
   "execution_count": 88,
   "metadata": {},
   "outputs": [
    {
     "data": {
      "text/plain": [
       "1×5 Array{Int64,2}:\n",
       " 7  7  10  5  7"
      ]
     },
     "execution_count": 88,
     "metadata": {},
     "output_type": "execute_result"
    }
   ],
   "source": [
    "maximum(A, dims=1)"
   ]
  },
  {
   "cell_type": "markdown",
   "metadata": {},
   "source": [
    "This was the maximal element along the first dimension (i.e., in each column). Now let us find the minimum along the second dimension (i.e., in each row)."
   ]
  },
  {
   "cell_type": "code",
   "execution_count": 89,
   "metadata": {},
   "outputs": [
    {
     "data": {
      "text/plain": [
       "3×1 Array{Int64,2}:\n",
       " 1\n",
       " 1\n",
       " 2"
      ]
     },
     "execution_count": 89,
     "metadata": {},
     "output_type": "execute_result"
    }
   ],
   "source": [
    "minimum(A, dims=2)"
   ]
  },
  {
   "cell_type": "markdown",
   "metadata": {},
   "source": [
    "If you need a maximum of several arguments, you can also use the function `max`:"
   ]
  },
  {
   "cell_type": "code",
   "execution_count": 90,
   "metadata": {},
   "outputs": [
    {
     "data": {
      "text/plain": [
       "4"
      ]
     },
     "execution_count": 90,
     "metadata": {},
     "output_type": "execute_result"
    }
   ],
   "source": [
    "max(1, 2, A[1,1])"
   ]
  },
  {
   "cell_type": "markdown",
   "metadata": {},
   "source": [
    "Sometimes instead of a maximal value, you would need to find the location  (or an index) thereof. In that case: "
   ]
  },
  {
   "cell_type": "code",
   "execution_count": 91,
   "metadata": {},
   "outputs": [
    {
     "data": {
      "text/plain": [
       "3×1 Array{CartesianIndex{2},2}:\n",
       " CartesianIndex(1, 3)\n",
       " CartesianIndex(2, 1)\n",
       " CartesianIndex(3, 3)"
      ]
     },
     "execution_count": 91,
     "metadata": {},
     "output_type": "execute_result"
    }
   ],
   "source": [
    "argmax(A, dims=2)"
   ]
  },
  {
   "cell_type": "code",
   "execution_count": null,
   "metadata": {},
   "outputs": [],
   "source": []
  },
  {
   "cell_type": "markdown",
   "metadata": {},
   "source": [
    "Finally, if you want to find both the maximal value and its location in the array you can do the following:"
   ]
  },
  {
   "cell_type": "code",
   "execution_count": 92,
   "metadata": {},
   "outputs": [
    {
     "name": "stdout",
     "output_type": "stream",
     "text": [
      "[8; 7; 10]\n",
      "CartesianIndex{2}[CartesianIndex(1, 3); CartesianIndex(2, 1); CartesianIndex(3, 3)]\n"
     ]
    }
   ],
   "source": [
    "(maxvalue, maxvaluelocation) = findmax(A, dims=2)\n",
    "println(maxvalue)\n",
    "println(maxvaluelocation)"
   ]
  },
  {
   "cell_type": "markdown",
   "metadata": {},
   "source": [
    "### Finding a maximum of a function using `optimize` from package `Optim`\n",
    "\n",
    "To find a maximum (or a minimum) of a function you can use `optimize`. Before you do it, you need to install `Optim` package. You need to do it only once (that's why the installation part is commented here)."
   ]
  },
  {
   "cell_type": "code",
   "execution_count": 93,
   "metadata": {},
   "outputs": [],
   "source": [
    "# using Pkg\n",
    "# Pkg.add(\"Optim\")\n",
    "using Optim"
   ]
  },
  {
   "cell_type": "markdown",
   "metadata": {},
   "source": [
    "Now let us define a function `f(x)` and plot it to get an idea how this function looks like"
   ]
  },
  {
   "cell_type": "code",
   "execution_count": 94,
   "metadata": {},
   "outputs": [
    {
     "data": {
      "image/png": "[encoded data removed]"
     },
     "execution_count": 94,
     "metadata": {},
     "output_type": "execute_result"
    }
   ],
   "source": [
    "# using Pkg\n",
    "# Pkg.add(\"Plots\")\n",
    "using Plots\n",
    "pyplot()\n",
    "# using Pkg\n",
    "# Pkg.add(\"LaTeXStrings\")\n",
    "using LaTeXStrings\n",
    "\n",
    "function f(x)\n",
    "log(x)-x^4\n",
    "end;\n",
    "xx = [ii/100 for ii in 1:150]\n",
    "\n",
    "plot(xx, f.(xx),\n",
    "        seriestype = :line,\n",
    "        linestyle = :solid,\n",
    "        linealpha = 1,\n",
    "        linewidth = 2,\n",
    "        linecolor = :red,\n",
    "        label = \"\")\n",
    "xlabel!(L\"x\")\n",
    "ylabel!(L\"f(x)\")"
   ]
  },
  {
   "cell_type": "markdown",
   "metadata": {},
   "source": [
    "You can see that the maximizer of this function is somewhere around 0.75 and the maximum of the function is around -1. \n",
    "\n",
    "To maximize the function we can use function `optimize`. This function looks for a minimum, so we will apply it to `-f(x)` to find a maximum (in doing so we will create an anonymous function `x -> -f(x)`) "
   ]
  },
  {
   "cell_type": "code",
   "execution_count": 95,
   "metadata": {},
   "outputs": [
    {
     "data": {
      "text/plain": [
       "Results of Optimization Algorithm\n",
       " * Algorithm: Brent's Method\n",
       " * Search Interval: [0.000000, 2.000000]\n",
       " * Minimizer: 7.071068e-01\n",
       " * Minimum: 5.965736e-01\n",
       " * Iterations: 10\n",
       " * Convergence: max(|x - x_upper|, |x - x_lower|) <= 2*(1.5e-08*|x|+2.2e-16): true\n",
       " * Objective Function Calls: 11"
      ]
     },
     "execution_count": 95,
     "metadata": {},
     "output_type": "execute_result"
    }
   ],
   "source": [
    "f_min = optimize(x -> -f(x),0,2)"
   ]
  },
  {
   "cell_type": "markdown",
   "metadata": {},
   "source": [
    "Function `optimize` returns a lot of information, some of it useful for our purposes and some of it auxilliary (e.g. whether the algorithm that was looking for a minimum converged). We can access this information directly"
   ]
  },
  {
   "cell_type": "code",
   "execution_count": 96,
   "metadata": {},
   "outputs": [
    {
     "data": {
      "text/plain": [
       "0.7071067801731484"
      ]
     },
     "execution_count": 96,
     "metadata": {},
     "output_type": "execute_result"
    }
   ],
   "source": [
    "Optim.minimizer(f_min)"
   ]
  },
  {
   "cell_type": "code",
   "execution_count": 97,
   "metadata": {},
   "outputs": [
    {
     "data": {
      "text/plain": [
       "-0.5965735902799727"
      ]
     },
     "execution_count": 97,
     "metadata": {},
     "output_type": "execute_result"
    }
   ],
   "source": [
    "-Optim.minimum(f_min)"
   ]
  },
  {
   "cell_type": "markdown",
   "metadata": {},
   "source": [
    "We can plot the maximum"
   ]
  },
  {
   "cell_type": "code",
   "execution_count": 98,
   "metadata": {},
   "outputs": [
    {
     "data": {
      "image/png": "[encoded data removed]"
     },
     "execution_count": 98,
     "metadata": {},
     "output_type": "execute_result"
    },
    {
     "name": "stderr",
     "output_type": "stream",
     "text": [
      "'c' argument looks like a single numeric RGB or RGBA sequence, which should be avoided as value-mapping will have precedence in case its length matches with 'x' & 'y'.  Please use a 2-D array with a single row if you really want to specify the same RGB or RGBA value for all points.\n"
     ]
    }
   ],
   "source": [
    "plot(xx, f.(xx),\n",
    "        seriestype = :line,\n",
    "        linestyle = :solid,\n",
    "        linealpha = 1,\n",
    "        linewidth = 2,\n",
    "        linecolor = :red,\n",
    "        label = \"\")\n",
    "xlabel!(L\"x\")\n",
    "ylabel!(L\"f(x)\")\n",
    "plot!([Optim.minimizer(f_min)],[-Optim.minimum(f_min)],\n",
    "        markershape = :circle,\n",
    "        markersize = 3,\n",
    "        markeralpha =1,\n",
    "        markercolor = :black,        \n",
    "        markerstrokewidth = 3,\n",
    "        markerstrokealpha = 1,\n",
    "        markerstrokecolor = :black,\n",
    "        markerstrokestyle = :solid,\n",
    "        label = \"maximum\"\n",
    ")"
   ]
  },
  {
   "cell_type": "markdown",
   "metadata": {},
   "source": [
    "### Solving an equation\n",
    "\n",
    "There are several ways to solve an equation numerically. One way is to use special packages that solve equations (just like a package `Optim` maximizes functions). The other way is to create your own solver.\n",
    "\n",
    "#### Using minimization\n",
    "\n",
    "Suppose you are trying to solve an equation $g(x) = 0$. The solution to this equation will coincide with the minimum of a function $g(x)^2$, so you can use `optimize` to find the solution. Here is the example"
   ]
  },
  {
   "cell_type": "code",
   "execution_count": 99,
   "metadata": {},
   "outputs": [
    {
     "data": {
      "text/plain": [
       "2.23606797817201"
      ]
     },
     "execution_count": 99,
     "metadata": {},
     "output_type": "execute_result"
    }
   ],
   "source": [
    "function g(x)\n",
    "    5-x^2\n",
    "    end\n",
    "\n",
    "g2_min = optimize(x -> g(x)^2, 0, 5)\n",
    "x_solution=Optim.minimizer(g2_min)"
   ]
  },
  {
   "cell_type": "markdown",
   "metadata": {},
   "source": [
    "To check that this is a solution, let us calculate the function $g(x)$ at this value"
   ]
  },
  {
   "cell_type": "code",
   "execution_count": 100,
   "metadata": {},
   "outputs": [
    {
     "data": {
      "text/plain": [
       "-3.0062601297231595e-9"
      ]
     },
     "execution_count": 100,
     "metadata": {},
     "output_type": "execute_result"
    }
   ],
   "source": [
    "g(x_solution)"
   ]
  },
  {
   "cell_type": "markdown",
   "metadata": {},
   "source": [
    "#### Binary search \n",
    "\n",
    "If function $g(x)$ is monotone, than one can use binary search to find a solution to $g(x) = 0$. This is useful for us because excess demand is usually decreasing in price. Suppose for concreteness that the function $g(x)$ is decreasing To implement this we need to find two numbers $\\underline{x}$ and $\\overline{x}$ that are such that $g(\\underline{x})>0$ and $g(\\overline{x})<0$. Then we calculate the mid point between the two numbers and check whether the function is negative or positive at the midpoint. If $g\\left(\\frac{\\underline{x}+\\overline{x}}{2}\\right)>0$ then we replace $\\underline{x}$ with the midpoint. Otherwise we replace $\\overline{x}$ with the midpoint. We repeat this procedure until the value at the midpoint is close enough to zero. "
   ]
  },
  {
   "cell_type": "code",
   "execution_count": 101,
   "metadata": {},
   "outputs": [
    {
     "data": {
      "text/plain": [
       "2.2360658645629883"
      ]
     },
     "execution_count": 101,
     "metadata": {},
     "output_type": "execute_result"
    }
   ],
   "source": [
    "tolerance_g = 0.00001 #this is how close to zero I want my g(x) to be\n",
    "#initial conditions for the interval and its midpoint\n",
    "xl = 0 \n",
    "xh = 5\n",
    "xm = (xl+xh)/2\n",
    "\n",
    "#iterations\n",
    "while abs(g(xm))>tolerance_g\n",
    "    if g(xm)>0\n",
    "            xl = xm\n",
    "        else\n",
    "            xh = xm\n",
    "        end\n",
    "    xm = (xl+xh)/2\n",
    "end\n",
    "    \n",
    "xm"
   ]
  },
  {
   "cell_type": "markdown",
   "metadata": {},
   "source": [
    "### Approximating an integral\n",
    "\n",
    "#### Sum on a grid\n",
    "\n",
    "Suppose we want to compute the following integral $$\\int\\limits_{a}^{b} f(x)dx.$$ We can approximate it with a sum $$\\sum\\limits_{i = 1}^{n} f(x_i)\\Delta,$$ where $x_0 = a$, $x_i = x_0+i\\Delta$, and $\\Delta = \\frac{b-a}{n}$. Note, that $x_n = b$. \n",
    "\n",
    "The large the $n$, the better the more precise is the approximation.\n",
    "\n",
    "Suppose $a = 1$, $b = 2$ and $f(x) = \\ln x - x^4$. First, let us define a sequence $x_i$ as an array."
   ]
  },
  {
   "cell_type": "code",
   "execution_count": 102,
   "metadata": {},
   "outputs": [],
   "source": [
    "n = 10000; a = 1; b = 2;\n",
    "delta = (b-a)/n\n",
    "xi = [1+ii*delta for ii in 1:n];"
   ]
  },
  {
   "cell_type": "markdown",
   "metadata": {},
   "source": [
    "Now we can compute $f(x_i)\\Delta$ and sum them up"
   ]
  },
  {
   "cell_type": "code",
   "execution_count": 103,
   "metadata": {},
   "outputs": [
    {
     "data": {
      "text/plain": [
       "1-element Array{Float64,1}:\n",
       " -5.8144210052710825"
      ]
     },
     "execution_count": 103,
     "metadata": {},
     "output_type": "execute_result"
    }
   ],
   "source": [
    "sum(f.(xi)*delta, dims = 1)"
   ]
  },
  {
   "cell_type": "markdown",
   "metadata": {},
   "source": [
    "#### Monte Carlo\n",
    "\n",
    "An alternative to a deterministic grid is the random one. Observe that $$\\int\\limits_{a}^{b} f(x)dx = (b-a)\\int\\limits_{a}^{b} f(x)\\frac{1}{b-a}dx = (b-a)\\mathbb{E}[f(z)],$$\n",
    "where $z$ is a uniform random variable on $[a,b]$. One way to estimate the expectation is to generate large sample of draws from the random variable $z$ and compute the average of $f(z)$."
   ]
  },
  {
   "cell_type": "code",
   "execution_count": 104,
   "metadata": {},
   "outputs": [
    {
     "data": {
      "text/plain": [
       "1×1 Array{Float64,2}:\n",
       " -5.819287161051755"
      ]
     },
     "execution_count": 104,
     "metadata": {},
     "output_type": "execute_result"
    }
   ],
   "source": [
    "z_sample = (b-a)*rand(n,1).+a\n",
    "(b-a)*sum(f.(z_sample), dims = 1)/n"
   ]
  },
  {
   "cell_type": "markdown",
   "metadata": {},
   "source": [
    "### Approximating a derivative "
   ]
  },
  {
   "cell_type": "markdown",
   "metadata": {},
   "source": [
    "Similarly to the integral, we can compute an approximation for a derivative using $$\\frac{df(x)}{dx}\\approx \\frac{f(x+\\varepsilon)-f(x)}{\\varepsilon}$$ for small enough $\\varepsilon$."
   ]
  },
  {
   "cell_type": "code",
   "execution_count": 105,
   "metadata": {},
   "outputs": [
    {
     "data": {
      "text/plain": [
       "2.000099999999172"
      ]
     },
     "execution_count": 105,
     "metadata": {},
     "output_type": "execute_result"
    }
   ],
   "source": [
    "function derivativeoffunction(func::Function, x_arg, precision)\n",
    "    (func(x_arg+precision)-func(x_arg))/precision\n",
    "end\n",
    "\n",
    "derivativeoffunction(x -> x^2, 1, 0.0001)"
   ]
  }
 ],
 "metadata": {
  "kernelspec": {
   "display_name": "Julia 1.0.1",
   "language": "julia",
   "name": "julia-1.0"
  },
  "language_info": {
   "file_extension": ".jl",
   "mimetype": "application/julia",
   "name": "julia",
   "version": "1.0.1"
  }
 },
 "nbformat": 4,
 "nbformat_minor": 2
}
